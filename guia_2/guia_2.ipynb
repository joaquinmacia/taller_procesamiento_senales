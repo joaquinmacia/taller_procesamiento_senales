{
 "cells": [
  {
   "cell_type": "markdown",
   "metadata": {},
   "source": [
    "## GUIA 2"
   ]
  },
  {
   "cell_type": "markdown",
   "metadata": {},
   "source": [
    "## Ejercicio 1\n"
   ]
  },
  {
   "cell_type": "markdown",
   "metadata": {},
   "source": [
    "![image.png](enunciados/ej1.png)"
   ]
  },
  {
   "cell_type": "markdown",
   "metadata": {},
   "source": [
    "Comenzamos definiendo las variables y los datos que nos da el enunciado\n",
    "\n",
    "Y : \"Bit emitido\"\n",
    "\n",
    "X : \"Bit recibido\"\n",
    "\n",
    "P(Y = 1) = 3/4 : Probabilidad de que el bit emitido sea 1\n",
    "\n",
    "P(Y = 0) = 1/4 : Probabilidad de que el bit emitido sea 0\n",
    "\n",
    "X|Y=0 ~ N(0,4) : Distribucion del bit recibido, dado que se emitio un 0\n",
    "\n",
    "X|Y=1 ~ N(0,1) : Distribucion del bit recibido, dado que se emitio un 0\n",
    "\n",
    "a) \n",
    "\n",
    "$p_X(x) = P(Y = 0) \\cdot p_{X|Y=0}(x) + P(Y = 1) \\cdot p_{X|Y=1}(x)$\n",
    "\n",
    "\n",
    "$p_{X|Y=0}(x) = \\frac{1}{ 2 \\sqrt \\pi} \\cdot exp(-\\frac{x^2}{8})$\n",
    "\n",
    "$p_{X|Y=1}(x) = \\frac{1}{ \\sqrt{2 \\pi}} \\cdot exp(-\\frac{x^2}{2})$\n",
    "\n",
    "\n"
   ]
  }
 ],
 "metadata": {
  "language_info": {
   "name": "python"
  }
 },
 "nbformat": 4,
 "nbformat_minor": 2
}
