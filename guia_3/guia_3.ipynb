{
 "cells": [
  {
   "cell_type": "markdown",
   "metadata": {},
   "source": [
    "# GUIA 3"
   ]
  },
  {
   "cell_type": "code",
   "execution_count": 1,
   "metadata": {},
   "outputs": [],
   "source": [
    "import numpy as np\n",
    "import matplotlib.pyplot as plt"
   ]
  },
  {
   "cell_type": "markdown",
   "metadata": {},
   "source": [
    "### Ejercicio 1"
   ]
  },
  {
   "cell_type": "markdown",
   "metadata": {},
   "source": [
    "![image.png](enunciados/ej1.png)"
   ]
  },
  {
   "cell_type": "markdown",
   "metadata": {},
   "source": [
    "Partiendo de la densidad conjunta $p_{XY}(x, y)$, podemos intentar factorizarla en dos funciones, de forma de que se cumpla que una de ellas solo dependa de x, y la otra dependa de x e y, tal que \n",
    "\n",
    "\n",
    "$p_{XY}(x, y) = p_X(x) \\cdot p{Y|X}(y|x)$\n",
    "\n",
    "$ \\frac{ e^{ -( 2x + \\frac{ y }{ 4x+2 } ) } }{ 2x+1 } \\cdot 1 \\{ x > 0, y > 0\\} = 2 \\cdot e^{-2x} \\cdot 1 \\{ x>0 \\} \\cdot \\frac{1}{4x+2} e^{- \\frac{1}{4x+2}y} \\cdot 1 \\{ y>0 \\}$\n",
    "\n",
    "Se puede ver que\n",
    "\n",
    "$X \\sim \\varepsilon(2) $\n",
    "\n",
    "Y que\n",
    "\n",
    "$Y|_{X = x} \\sim \\varepsilon (\\frac{1}{4x+2}) $\n",
    "\n",
    "Entonces, si $T \\sim \\varepsilon( \\lambda )$ entonces $k \\cdot T \\sim \\varepsilon( \\frac {\\lambda}{k} )$ se puede decir que\n",
    "\n",
    "$Y = \\varepsilon(1) \\cdot (4X+2) $\n",
    "\n",
    "\n",
    "Habiendolo factorizado de este modo, X corresponde como la causa, e Y es el efecto."
   ]
  }
 ],
 "metadata": {
  "kernelspec": {
   "display_name": "Python 3",
   "language": "python",
   "name": "python3"
  },
  "language_info": {
   "codemirror_mode": {
    "name": "ipython",
    "version": 3
   },
   "file_extension": ".py",
   "mimetype": "text/x-python",
   "name": "python",
   "nbconvert_exporter": "python",
   "pygments_lexer": "ipython3",
   "version": "3.11.9"
  }
 },
 "nbformat": 4,
 "nbformat_minor": 2
}
