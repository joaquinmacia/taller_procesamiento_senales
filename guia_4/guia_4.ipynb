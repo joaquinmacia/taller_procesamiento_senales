{
 "cells": [
  {
   "cell_type": "markdown",
   "metadata": {},
   "source": [
    "# GUIA 4"
   ]
  },
  {
   "cell_type": "code",
   "execution_count": 2,
   "metadata": {},
   "outputs": [],
   "source": [
    "import numpy as np\n",
    "import matplotlib.pyplot as plt\n",
    "import pandas as pd\n",
    "import scipy.stats as stats"
   ]
  },
  {
   "cell_type": "markdown",
   "metadata": {},
   "source": [
    "### Ejercicio 1"
   ]
  },
  {
   "cell_type": "markdown",
   "metadata": {},
   "source": [
    "![image.png](enunciados/ej1.png)"
   ]
  },
  {
   "cell_type": "markdown",
   "metadata": {},
   "source": [
    "a)\n",
    "\n",
    "Del enunciado se tienen los siguientes datos\n",
    "\n",
    "$\\tau$: Precision de Lucas\n",
    "\n",
    "$D$: Punto de impacto del tiro de Lucas \n",
    "\n",
    "$X$: Coordenada del punto de impacto del tiro de lucas\n",
    "\n",
    "$$X|_{\\tau} \\sim \\mathcal{N}(0, \\frac{1}{\\tau})$$\n",
    "\n",
    "$$\\tau \\sim \\chi^2_8$$\n",
    "\n",
    "$$D \\sim U(X, 0)$$\n",
    "\n",
    "$$\\sum_{i=1} ^{10} x_i^{2} = 17 $$\n",
    "\n",
    "\n",
    "Queremos calcular la distribucion a posteriori $p(\\tau | x)$, es decir, la precision de Lucas luego de que hemos observado los datos de sus 10 tiros (la sumatoria).\n",
    "\n",
    "Por Bayes tenemos que \n",
    "\n",
    "$$ p(\\tau | x) \\propto p(x | \\tau) \\cdot p(\\tau)$$\n",
    "\n",
    "\n",
    "Comenzamos calculando $ p(x | \\tau) $\n",
    "\n",
    "$p(x_i | \\tau) = \\frac{\\sqrt{\\tau}}{\\sqrt{2 \\pi}} \\exp (-\\frac{\\tau}{2} x_i^{2})$\n",
    "\n",
    "Si multiplicamos para n=10 (ya que observamos 10 tiros)\n",
    "\n",
    "$p(x | \\tau) = \\prod_{i=1} ^{10} p(x_i | \\tau) =\\left ( \\frac{\\sqrt{\\tau}}{\\sqrt{2 \\pi}} \\right) ^{10} \\cdot \\exp( -\\frac{\\tau}{2} \\sum_{i=1} ^{10}  x_i^{2})$\n",
    "\n",
    "Ahora calculamos $p(\\tau)$, que como sabemos que $\\tau \\sim \\chi^2_8$, queda\n",
    "\n",
    "\n",
    "$p(\\tau) = \\frac{1}{2^{8/2} \\Gamma(\\frac{8}{2})} \\tau^{\\frac{8}{2}-1} \\exp{(-\\frac{\\tau}{2})} \\mathbb{1}\\{x>0\\} $\n",
    "\n",
    "$ p(\\tau) = \\frac{1}{96} \\tau^3 \\exp{(- \\frac{\\tau}{2})} \\mathbb{1}\\{x>0\\}  $\n",
    "\n",
    "\n",
    "Reemplazando en la formula de Bayes\n",
    "\n",
    "\n",
    "$ p(\\tau | x) \\propto \\left ( \\frac{\\sqrt{\\tau}}{\\sqrt{2 \\pi}} \\right) ^{10} \\cdot \\exp( -\\frac{\\tau}{2} \\sum_{i=1} ^{10}  x_i^{2}) \\cdot \\frac{1}{96} \\tau^3 \\exp{(- \\frac{\\tau}{2})} \\mathbb{1}\\{x>0\\} $\n",
    "\n",
    "\n",
    "\n",
    "$ p(\\tau | x) \\propto \\left ( \\frac{\\sqrt{\\tau}}{\\sqrt{2 \\pi}} \\right) ^{10} \\cdot \\exp( -\\frac{\\tau}{2} 17) \\cdot \\frac{1}{96} \\tau^3 \\exp{(- \\frac{\\tau}{2})} \\mathbb{1}\\{x>0\\} $\n",
    "\n",
    "$ p(\\tau | x) \\propto \\alpha \\cdot \\tau^8 \\cdot \\exp(-9\\tau) \\mathbb{1}\\{x>0\\}$\n",
    "\n",
    "Esta ultima expresion fue \"acomodada\" para parecerse a una distribucion $\\Gamma(\\nu=9, \\lambda=9)$, por lo que es necesario que $\\alpha = \\frac{9^9}{\\Gamma(9)}$\n",
    "\n",
    "\n",
    "De este modo, \n",
    "\n",
    "$$ \\tau|x \\sim \\Gamma(\\nu=9, \\lambda=9) $$\n",
    "\n",
    "\n",
    "\n",
    "\n",
    "\n",
    "\n",
    "\n"
   ]
  },
  {
   "cell_type": "markdown",
   "metadata": {},
   "source": [
    "b) la distribucion predictiva describe el comportamiento de una nueva observacion, teniendo en cuenta lo calculado anteriormente.\n",
    "\n",
    "Como vimos, la distribucion a posteriori de $\\tau$ es $ \\tau|x \\sim \\Gamma(\\nu=9, \\lambda=9) $.\n",
    "\n",
    "Como lo indica el enunciado, una nueva observacion $X_n$ dado que se conoce el parametro $\\tau$ seguira teniendo una distribucion normal al igual que X, por lo que se sigue cumpliendo que\n",
    "\n",
    "$$ X_n | \\tau  \\sim \\mathcal{N}(0, \\frac{1}{\\tau}) $$\n",
    "\n",
    "Ahora, la distribucion predictiva de $X_n$ es la integral de la distribucion condicional de $X_n$, multiplicada por la posteriori de $\\tau$\n",
    "\n",
    "\n",
    "$$ p(X_n | x) = \\int _{0} ^{\\infty} p(X_n | \\tau) \\cdot p(\\tau | x)  d\\tau$$\n",
    "\n",
    "\n",
    "Calculando por partes\n",
    "\n",
    "$ p(X_n | \\tau) = \\frac{1}{\\sqrt{\\frac{2 \\pi}{\\tau}}} \\exp(-\\frac{\\tau X_n^{2}}{2} ) $ \n",
    "\n",
    "$ p(\\tau | x) = \\frac{9^9}{\\Gamma(9)} \\tau^8 e^{-9 \\tau} $\n",
    "\n",
    "Reemplazando en la integral\n",
    "\n",
    "\n",
    "$ p(X_n | x) = \\int _{0} ^{\\infty} \\frac{1}{\\sqrt{\\frac{2 \\pi}{\\tau}}} \\exp(-\\frac{\\tau X_n^{2}}{2}) \\cdot \\frac{9^9}{\\Gamma(9)} \\tau^8 e^{-9 \\tau} d\\tau$\n",
    "\n",
    "$  p(X_n | x) = \\frac{9^9}{\\Gamma(9)} \\cdot \\frac{1}{\\sqrt{2\\pi}} \\int _{0} ^{\\infty} \\tau^{\\frac{17}{2}} \\cdot \\exp{(-\\tau (\\frac{X_n^{2}}{2}+ 9))} d\\tau $\n",
    "\n",
    "\n",
    "Observando con detenimiento, la expresion es muy similar a una distribucion Gamma\n",
    "\n",
    "$ p(X_n | x) = \\frac{9^9}{\\Gamma(9) \\sqrt{2\\pi}} \\cdot \\frac{1}{(X_n^{2} + 9)^\\frac{19}{2}} $\n",
    "\n",
    "Reacomodando los terminos se puede llegar a una expresion como\n",
    "\n",
    "$ p(X_n | x) = \\frac{\\Gamma(\\frac{19}{2})}{\\Gamma(9) \\sqrt{18\\pi}} \\cdot (\\frac{X_n^{2}}{18} + 1 )^{-\\frac{19}{2}}$ \n",
    "\n",
    "\n",
    "Finalmente, se compara con la densidad de la t-Student:\n",
    "\n",
    "\n",
    "$f(t \\mid \\nu, \\mu, \\sigma) = \\frac{\\Gamma\\left(\\frac{\\nu + 1}{2}\\right)}{\\sqrt{\\nu\\pi} \\, \\Gamma\\left(\\frac{\\nu}{2}\\right) \\sigma} \\left(1 + \\frac{1}{\\nu}\\left(\\frac{t - \\mu}{\\sigma}\\right)^2\\right)^{-\\frac{\\nu + 1}{2}}$\n",
    "\n",
    "Se puede ver que $X_n$ tiene una distribucion del tipo t-Student, cuyos parametros son $\\nu = 18$ grados de libertad, media $\\mu =0 $, y escala $\\sigma = 1$.\n",
    "\n",
    "$X_n | x \\sim t_{18}(0, 1)$\n",
    "\n",
    "\n",
    "\n"
   ]
  },
  {
   "cell_type": "code",
   "execution_count": 4,
   "metadata": {},
   "outputs": [
    {
     "name": "stdout",
     "output_type": "stream",
     "text": [
      "La probabilidad de que el próximo tiro esté entre -2.1 y 2.1 es 0.9499\n"
     ]
    }
   ],
   "source": [
    "# c)\n",
    "\n",
    "# Defino los grados de libertad\n",
    "df = 18\n",
    "\n",
    "# P(|X|<2.1 | x) = P(-2.1 < X < 2.1 | x)\n",
    "\n",
    "# Calculo la probabilidad acumulada en los límites -2.1 y 2.1 \n",
    "p_i = stats.t.cdf(-2.1, df)\n",
    "p_d = stats.t.cdf(2.1, df)\n",
    "\n",
    "# La probabilidad de que el próximo tiro esté entre -2.1 y 2.1 \n",
    "p_tot = p_d - p_i\n",
    "print(f'La probabilidad de que el próximo tiro esté entre -2.1 y 2.1 es {p_tot:.4f}')\n",
    "\n"
   ]
  }
 ],
 "metadata": {
  "kernelspec": {
   "display_name": "Python 3",
   "language": "python",
   "name": "python3"
  },
  "language_info": {
   "codemirror_mode": {
    "name": "ipython",
    "version": 3
   },
   "file_extension": ".py",
   "mimetype": "text/x-python",
   "name": "python",
   "nbconvert_exporter": "python",
   "pygments_lexer": "ipython3",
   "version": "3.11.9"
  }
 },
 "nbformat": 4,
 "nbformat_minor": 2
}
